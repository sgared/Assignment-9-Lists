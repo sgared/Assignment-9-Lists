{
 "cells": [
  {
   "cell_type": "code",
   "id": "initial_id",
   "metadata": {
    "collapsed": true,
    "ExecuteTime": {
     "end_time": "2024-04-12T14:23:42.978062Z",
     "start_time": "2024-04-12T14:23:42.966833Z"
    }
   },
   "source": [],
   "outputs": [],
   "execution_count": 395
  },
  {
   "cell_type": "markdown",
   "source": [
    "INFO-B 210: Information Infrastructure I\n",
    "\n",
    "Assignment 9: Lists"
   ],
   "metadata": {
    "collapsed": false
   },
   "id": "93945824b55f4743"
  },
  {
   "cell_type": "markdown",
   "source": [
    "Purpose:\n",
    "\n",
    "The purpose of this assignment is to utilize python programming in practical setting to solve real world problems.\n",
    "\n",
    "Skills:\n",
    "In order to complete this assignment you will need to\n",
    "\n",
    "use critical thinking to write code to answer the questions\n",
    "\n",
    "practice Python fundamentals and best practices\n",
    "\n"
   ],
   "metadata": {
    "collapsed": false
   },
   "id": "d1a2e70499050a85"
  },
  {
   "cell_type": "markdown",
   "source": [
    "Knowledge:\n",
    "\n",
    "This assignment will help you gain the following:\n",
    "\n",
    "a deep understanding of lists and their functionalities\n",
    "\n",
    "practice using lists and their associated functions"
   ],
   "metadata": {
    "collapsed": false
   },
   "id": "4202f334a4c2148a"
  },
  {
   "cell_type": "markdown",
   "source": [
    "Write functions that address the following prompts. Your function should have proper documentation and error handling. In the main part of your program, you should call your function using the test cases listed below."
   ],
   "metadata": {
    "collapsed": false
   },
   "id": "c628743453208e31"
  },
  {
   "metadata": {},
   "cell_type": "markdown",
   "source": "'''1.Sudoku is a Japanese puzzle game that became popular in the US in the early 2000’s. Despite its simple rules, actually solving a Sudoku puzzle can be quite difficult based upon the amount of starting information. The Sudoku board is made up of a 9 x 9 square grid: each row and each column must contain each value 1-9, without repetition. Additionally, the board can be broken down into 9 non-overlapping smaller 3 x 3 square grids. Each square grid must also contain each value 1-9, without repetition. Write a function that can be used to check if a Sudoku subgrid (3 x 3) is a legal conformation. The function should allow input either as a flat list of 9 elements, or a list of 3 lists, with 3 elements each, and should provide an error for any other input. If the grid is not a legal one, the program should give the user a brief explanation as to why: ie duplicate values in (col/row/grid) or illegal values. (40 points)'''",
   "id": "99b3302fe9915dcb"
  },
  {
   "metadata": {
    "ExecuteTime": {
     "end_time": "2024-04-12T14:23:43.119698Z",
     "start_time": "2024-04-12T14:23:43.103186Z"
    }
   },
   "cell_type": "code",
   "source": [
    "#def sudoku_puzzle(value):\n",
    "def sudoku_puzzle(c):\n",
    "    counter = 0\n",
    "    correct_list = []\n",
    "    wrong_list = []\n",
    "    \n",
    "    for value in c:\n",
    "    #print(value)\n",
    "    #Check if item value is a list\n",
    "        if isinstance(value,list):\n",
    "            if not len(value) == 3:\n",
    "                print(\"There is more than 3 items in each 3x3 grid box: \"+str(value))\n",
    "                raise ValueError(\"Make sure there is only 3 items in each 3x3 grid box\")\n",
    "            else:\n",
    "                counter = 0\n",
    "                for i in value:\n",
    "                    if type(i) != int:\n",
    "                        wrong_list.append(i)\n",
    "                    else:\n",
    "                        correct_list.append(i)\n",
    "                counter +=1\n",
    "                if counter > 3:\n",
    "                    raise ValueError(\"Make sure there is only three items in each 3x3 grid row\")\n",
    "        else:\n",
    "            \n",
    "                if type(value) != int:\n",
    "                    wrong_list.append(value)\n",
    "                else:\n",
    "                   correct_list.append(value)\n",
    "                \n",
    "    return correct_list,wrong_list\n",
    "\n",
    "'''good_values,bad_values = sudoku_puzzle(c)\n",
    "print(\"The following numbers are correct values that are suitable: \")\n",
    "print(good_values)\n",
    "print(\"The following values are incorrect values and are not suitable: \")\n",
    "#print(bad_values)'''  "
   ],
   "id": "2d3e19b879a2b4f7",
   "outputs": [
    {
     "data": {
      "text/plain": [
       "'good_values,bad_values = sudoku_puzzle(c)\\nprint(\"The following numbers are correct values that are suitable: \")\\nprint(good_values)\\nprint(\"The following values are incorrect values and are not suitable: \")\\n#print(bad_values)'"
      ]
     },
     "execution_count": 396,
     "metadata": {},
     "output_type": "execute_result"
    }
   ],
   "execution_count": 396
  },
  {
   "cell_type": "code",
   "source": [
    "a= [1,2,3,4,5,6,7,8,9]\n",
    "good_values,bad_values = sudoku_puzzle(a)\n",
    "\n",
    "print(\"The following numbers are correct values that are suitable: \")\n",
    "print(good_values)\n",
    "print(\"The following values are incorrect values and are not suitable: \")\n",
    "print(bad_values)"
   ],
   "metadata": {
    "collapsed": false,
    "ExecuteTime": {
     "end_time": "2024-04-12T14:23:43.152848Z",
     "start_time": "2024-04-12T14:23:43.136803Z"
    }
   },
   "id": "3249ed907ab33838",
   "outputs": [
    {
     "name": "stdout",
     "output_type": "stream",
     "text": [
      "The following numbers are correct values that are suitable: \n",
      "[1, 2, 3, 4, 5, 6, 7, 8, 9]\n",
      "The following values are incorrect values and are not suitable: \n",
      "[]\n"
     ]
    }
   ],
   "execution_count": 397
  },
  {
   "cell_type": "code",
   "source": [
    "b=[[5, 3, 4], [6, 7, 2], [1, 9, 8]]\n",
    "\n",
    "good_values,bad_values = sudoku_puzzle(b)\n",
    "\n",
    "print(\"The following numbers are correct values that are suitable: \")\n",
    "print(good_values)\n",
    "print(\"The following values are incorrect values and are not suitable: \")\n",
    "print(bad_values)"
   ],
   "metadata": {
    "collapsed": false,
    "ExecuteTime": {
     "end_time": "2024-04-12T14:23:43.188663Z",
     "start_time": "2024-04-12T14:23:43.171620Z"
    }
   },
   "id": "92b6acad0e1714a0",
   "outputs": [
    {
     "name": "stdout",
     "output_type": "stream",
     "text": [
      "The following numbers are correct values that are suitable: \n",
      "[5, 3, 4, 6, 7, 2, 1, 9, 8]\n",
      "The following values are incorrect values and are not suitable: \n",
      "[]\n"
     ]
    }
   ],
   "execution_count": 398
  },
  {
   "cell_type": "code",
   "source": [
    "c=[[9, 9, 2], [3, 4, 8], [5, 6, 7]]\n",
    "good_values,bad_values = sudoku_puzzle(c)\n",
    "\n",
    "print(\"The following numbers are correct values that are suitable: \")\n",
    "print(good_values)\n",
    "print(\"The following values are incorrect values and are not suitable: \")\n",
    "print(bad_values)"
   ],
   "metadata": {
    "collapsed": false,
    "ExecuteTime": {
     "end_time": "2024-04-12T14:23:43.209020Z",
     "start_time": "2024-04-12T14:23:43.192252Z"
    }
   },
   "id": "90c2a6d80ff16ec6",
   "outputs": [
    {
     "name": "stdout",
     "output_type": "stream",
     "text": [
      "The following numbers are correct values that are suitable: \n",
      "[9, 9, 2, 3, 4, 8, 5, 6, 7]\n",
      "The following values are incorrect values and are not suitable: \n",
      "[]\n"
     ]
    }
   ],
   "execution_count": 399
  },
  {
   "cell_type": "code",
   "source": [
    "d=[[8, 5, 9], [4, 2, 6], [8, 1, 3]]\n",
    "good_values,bad_values = sudoku_puzzle(d)\n",
    "\n",
    "print(\"The following numbers are correct values that are suitable: \")\n",
    "print(good_values)\n",
    "print(\"The following values are incorrect values and are not suitable: \")\n",
    "print(bad_values)"
   ],
   "metadata": {
    "collapsed": false,
    "ExecuteTime": {
     "end_time": "2024-04-12T14:23:43.224684Z",
     "start_time": "2024-04-12T14:23:43.211490Z"
    }
   },
   "id": "bbce0d90f9618fb8",
   "outputs": [
    {
     "name": "stdout",
     "output_type": "stream",
     "text": [
      "The following numbers are correct values that are suitable: \n",
      "[8, 5, 9, 4, 2, 6, 8, 1, 3]\n",
      "The following values are incorrect values and are not suitable: \n",
      "[]\n"
     ]
    }
   ],
   "execution_count": 400
  },
  {
   "cell_type": "code",
   "source": [
    "e=[[7, 6, 1], [6, 8, 5], [3, 9, 6]]\n",
    "good_values,bad_values = sudoku_puzzle(e)\n",
    "\n",
    "print(\"The following numbers are correct values that are suitable: \")\n",
    "print(good_values)\n",
    "print(\"The following values are incorrect values and are not suitable: \")\n",
    "print(bad_values)"
   ],
   "metadata": {
    "collapsed": false,
    "ExecuteTime": {
     "end_time": "2024-04-12T14:23:43.256231Z",
     "start_time": "2024-04-12T14:23:43.242144Z"
    }
   },
   "id": "a625c641625d52d",
   "outputs": [
    {
     "name": "stdout",
     "output_type": "stream",
     "text": [
      "The following numbers are correct values that are suitable: \n",
      "[7, 6, 1, 6, 8, 5, 3, 9, 6]\n",
      "The following values are incorrect values and are not suitable: \n",
      "[]\n"
     ]
    }
   ],
   "execution_count": 401
  },
  {
   "cell_type": "code",
   "source": [
    "f=[[4, 2, 'E'], [7, 9 , 'I'], [8, 'S', 6]]\n",
    "good_values,bad_values = sudoku_puzzle(f)\n",
    "\n",
    "print(\"The following numbers are correct values that are suitable: \")\n",
    "print(good_values)\n",
    "print(\"The following values are incorrect values and are not suitable: \")\n",
    "print(bad_values)"
   ],
   "metadata": {
    "collapsed": false,
    "ExecuteTime": {
     "end_time": "2024-04-12T14:23:43.287574Z",
     "start_time": "2024-04-12T14:23:43.271941Z"
    }
   },
   "id": "9906cb04e98f9259",
   "outputs": [
    {
     "name": "stdout",
     "output_type": "stream",
     "text": [
      "The following numbers are correct values that are suitable: \n",
      "[4, 2, 7, 9, 8, 6]\n",
      "The following values are incorrect values and are not suitable: \n",
      "['E', 'I', 'S']\n"
     ]
    }
   ],
   "execution_count": 402
  },
  {
   "cell_type": "code",
   "source": [
    "g=[[6, 7, 8], [1, 9, 5, 3], [3, 4, 2]]\n",
    "good_values,bad_values = sudoku_puzzle(g)\n",
    "\n",
    "print(\"The following numbers are correct values that are suitable: \")\n",
    "print(good_values)\n",
    "print(\"The following values are incorrect values and are not suitable: \")\n",
    "print(bad_values)"
   ],
   "metadata": {
    "collapsed": false,
    "ExecuteTime": {
     "end_time": "2024-04-12T14:23:43.318822Z",
     "start_time": "2024-04-12T14:23:43.287574Z"
    }
   },
   "id": "91435c6803b3ccfc",
   "outputs": [
    {
     "name": "stdout",
     "output_type": "stream",
     "text": [
      "There is more than 3 items in each 3x3 grid box: [1, 9, 5, 3]\n"
     ]
    },
    {
     "ename": "ValueError",
     "evalue": "Make sure there is only 3 items in each 3x3 grid box",
     "output_type": "error",
     "traceback": [
      "\u001B[1;31m---------------------------------------------------------------------------\u001B[0m",
      "\u001B[1;31mValueError\u001B[0m                                Traceback (most recent call last)",
      "Cell \u001B[1;32mIn[403], line 2\u001B[0m\n\u001B[0;32m      1\u001B[0m g\u001B[38;5;241m=\u001B[39m[[\u001B[38;5;241m6\u001B[39m, \u001B[38;5;241m7\u001B[39m, \u001B[38;5;241m8\u001B[39m], [\u001B[38;5;241m1\u001B[39m, \u001B[38;5;241m9\u001B[39m, \u001B[38;5;241m5\u001B[39m, \u001B[38;5;241m3\u001B[39m], [\u001B[38;5;241m3\u001B[39m, \u001B[38;5;241m4\u001B[39m, \u001B[38;5;241m2\u001B[39m]]\n\u001B[1;32m----> 2\u001B[0m good_values,bad_values \u001B[38;5;241m=\u001B[39m \u001B[43msudoku_puzzle\u001B[49m\u001B[43m(\u001B[49m\u001B[43mg\u001B[49m\u001B[43m)\u001B[49m\n\u001B[0;32m      4\u001B[0m \u001B[38;5;28mprint\u001B[39m(\u001B[38;5;124m\"\u001B[39m\u001B[38;5;124mThe following numbers are correct values that are suitable: \u001B[39m\u001B[38;5;124m\"\u001B[39m)\n\u001B[0;32m      5\u001B[0m \u001B[38;5;28mprint\u001B[39m(good_values)\n",
      "Cell \u001B[1;32mIn[396], line 13\u001B[0m, in \u001B[0;36msudoku_puzzle\u001B[1;34m(c)\u001B[0m\n\u001B[0;32m     11\u001B[0m \u001B[38;5;28;01mif\u001B[39;00m \u001B[38;5;129;01mnot\u001B[39;00m \u001B[38;5;28mlen\u001B[39m(value) \u001B[38;5;241m==\u001B[39m \u001B[38;5;241m3\u001B[39m:\n\u001B[0;32m     12\u001B[0m     \u001B[38;5;28mprint\u001B[39m(\u001B[38;5;124m\"\u001B[39m\u001B[38;5;124mThere is more than 3 items in each 3x3 grid box: \u001B[39m\u001B[38;5;124m\"\u001B[39m\u001B[38;5;241m+\u001B[39m\u001B[38;5;28mstr\u001B[39m(value))\n\u001B[1;32m---> 13\u001B[0m     \u001B[38;5;28;01mraise\u001B[39;00m \u001B[38;5;167;01mValueError\u001B[39;00m(\u001B[38;5;124m\"\u001B[39m\u001B[38;5;124mMake sure there is only 3 items in each 3x3 grid box\u001B[39m\u001B[38;5;124m\"\u001B[39m)\n\u001B[0;32m     14\u001B[0m \u001B[38;5;28;01melse\u001B[39;00m:\n\u001B[0;32m     15\u001B[0m     counter \u001B[38;5;241m=\u001B[39m \u001B[38;5;241m0\u001B[39m\n",
      "\u001B[1;31mValueError\u001B[0m: Make sure there is only 3 items in each 3x3 grid box"
     ]
    }
   ],
   "execution_count": 403
  },
  {
   "metadata": {},
   "cell_type": "markdown",
   "source": "''' 2.Human text can be analyzed and recreated by computers through a series of techniques called Natural Language Processing or NLP. One of the most basic NLP models is to look for the occurrences of words. Write a function that takes a string as input and will print to the terminal the number of unique words contained in the string. Include an as an optional argument the ability to print to the terminal a number of most commonly occurring words. Use each stanza of the poem as well as the poem as whole for your test cases. '''",
   "id": "d46fac6e26672606"
  },
  {
   "metadata": {
    "ExecuteTime": {
     "end_time": "2024-04-12T14:23:43.350734Z",
     "start_time": "2024-04-12T14:23:43.321485Z"
    }
   },
   "cell_type": "code",
   "source": [
    "def occurrence(*bb):\n",
    "    counter = 0\n",
    "    new_string = []\n",
    "    collect_string = []  # Use a list to store unique words\n",
    "    bb = list(bb)\n",
    "    most_common_words = [] #use a list to store most common words\n",
    "    \n",
    "    # Split the input text into individual words\n",
    "    for sentence in bb:\n",
    "        words = sentence.split()\n",
    "        for word in words:\n",
    "            new_string.append(word.lower())\n",
    "    for i in new_string:\n",
    "        # Check if the word is not already in the list of unique words\n",
    "        if i not in collect_string:\n",
    "            collect_string.append(i)  # Add word to the list if it's not already present\n",
    "            counter += 1 # Increment the count of unique words\n",
    "        else:\n",
    "            most_common_words.append(i)\n",
    "            \n",
    "    return most_common_words,counter"
   ],
   "id": "37af4a8bffca28c0",
   "outputs": [],
   "execution_count": 404
  },
  {
   "metadata": {},
   "cell_type": "markdown",
   "source": "",
   "id": "5cf7c83699cfb2cb"
  },
  {
   "cell_type": "code",
   "source": [
    "aaa = \"It was many and many a year ago In a kingdom by the sea That a maiden there lived whom you may know By the name of Annabel Lee And this maiden she lived with no other thought Than to love and be loved by me In a kingdom by the sea That a maiden there lived whom you may know By the name of Annabel Lee And this maiden she lived with no other thought Than to love and be loved by me\"\n",
    "result, word_count = occurrence(\"It was many and many a year ago In a kingdom by the sea That a maiden there lived whom you may know By the name of Annabel Lee And this maiden she lived with no other thought Than to love and be loved by me In a kingdom by the sea That a maiden there lived whom you may know By the name of Annabel Lee And this maiden she lived with no other thought Than to love and be loved by me\")\n",
    "print(\"Total unique words:\", word_count)\n",
    "print(\"Most common word:\", result)"
   ],
   "metadata": {
    "collapsed": false,
    "ExecuteTime": {
     "end_time": "2024-04-12T14:23:43.361608Z",
     "start_time": "2024-04-12T14:23:43.352552Z"
    }
   },
   "id": "685b090c4ca473fc",
   "outputs": [
    {
     "name": "stdout",
     "output_type": "stream",
     "text": [
      "Total unique words: 36\n",
      "Most common word: ['many', 'a', 'a', 'by', 'the', 'and', 'maiden', 'lived', 'and', 'by', 'in', 'a', 'kingdom', 'by', 'the', 'sea', 'that', 'a', 'maiden', 'there', 'lived', 'whom', 'you', 'may', 'know', 'by', 'the', 'name', 'of', 'annabel', 'lee', 'and', 'this', 'maiden', 'she', 'lived', 'with', 'no', 'other', 'thought', 'than', 'to', 'love', 'and', 'be', 'loved', 'by', 'me']\n"
     ]
    }
   ],
   "execution_count": 405
  },
  {
   "cell_type": "code",
   "source": [
    "bbb = \"I was a child and she was a child In this kingdom by the sea But we loved with a love that was more than love I and my Annabel Lee With a love that the winged seraphs of Heaven Coveted her and me\"\n",
    "result, word_count = occurrence(bbb)\n",
    "print(\"Total unique words:\", word_count)\n",
    "print(\"Most common word:\", result)\n"
   ],
   "metadata": {
    "collapsed": false,
    "ExecuteTime": {
     "end_time": "2024-04-12T14:23:43.391723Z",
     "start_time": "2024-04-12T14:23:43.378129Z"
    }
   },
   "id": "e36947260f849686",
   "outputs": [
    {
     "name": "stdout",
     "output_type": "stream",
     "text": [
      "Total unique words: 30\n",
      "Most common word: ['was', 'a', 'child', 'a', 'was', 'love', 'i', 'and', 'with', 'a', 'love', 'that', 'the', 'and']\n"
     ]
    }
   ],
   "execution_count": 406
  },
  {
   "cell_type": "code",
   "source": [
    "ccc= \"And this was the reason that long ago In this kingdom by the sea A wind blew out of a cloud chilling My beautiful Annabel Lee So that her highborn kinsmen came And bore her away from me To shut her up in a sepulchre In this kingdom by the sea\"\n",
    "result, word_count = occurrence(ccc)\n",
    "print(\"Total unique words:\", word_count)\n",
    "print(\"Most common word:\", result)\n"
   ],
   "metadata": {
    "collapsed": false,
    "ExecuteTime": {
     "end_time": "2024-04-12T14:23:43.439192Z",
     "start_time": "2024-04-12T14:23:43.407434Z"
    }
   },
   "id": "fa19450886b1773d",
   "outputs": [
    {
     "name": "stdout",
     "output_type": "stream",
     "text": [
      "Total unique words: 36\n",
      "Most common word: ['this', 'the', 'a', 'that', 'and', 'her', 'her', 'in', 'a', 'in', 'this', 'kingdom', 'by', 'the', 'sea']\n"
     ]
    }
   ],
   "execution_count": 407
  },
  {
   "cell_type": "code",
   "source": [
    "ddd =\"The angels not half so happy in Heaven Went envying her and me Yes that was the reason as all men know In this kingdom by the sea That the wind came out of the cloud by night Chilling and killing my Annabel Lee\"\n",
    "result, word_count = occurrence(ddd)\n",
    "print(\"Total unique words:\", word_count)\n",
    "print(\"Most common word:\", result)\n"
   ],
   "metadata": {
    "collapsed": false,
    "ExecuteTime": {
     "end_time": "2024-04-12T14:23:43.458933Z",
     "start_time": "2024-04-12T14:23:43.443180Z"
    }
   },
   "id": "4f1bae8c030561d0",
   "outputs": [
    {
     "name": "stdout",
     "output_type": "stream",
     "text": [
      "Total unique words: 36\n",
      "Most common word: ['the', 'in', 'the', 'that', 'the', 'the', 'by', 'and']\n"
     ]
    }
   ],
   "execution_count": 408
  },
  {
   "cell_type": "code",
   "source": [
    "eee= \"But our love it was stronger by far than the love of those who were older than we Of many far wiser than we And neither the angels in Heaven above Nor the demons down under the sea Can ever dissever my soul from the soul Of the beautiful Annabel Lee\"\n",
    "result, word_count = occurrence(eee)\n",
    "print(\"Total unique words:\", word_count)\n",
    "print(\"Most common word:\", result)\n"
   ],
   "metadata": {
    "collapsed": false,
    "ExecuteTime": {
     "end_time": "2024-04-12T14:23:43.490567Z",
     "start_time": "2024-04-12T14:23:43.474932Z"
    }
   },
   "id": "61d794c6b832ac74",
   "outputs": [
    {
     "name": "stdout",
     "output_type": "stream",
     "text": [
      "Total unique words: 38\n",
      "Most common word: ['love', 'than', 'of', 'far', 'than', 'we', 'the', 'the', 'the', 'the', 'soul', 'of', 'the']\n"
     ]
    }
   ],
   "execution_count": 409
  },
  {
   "cell_type": "code",
   "source": [
    "fff = \"For the moon never beams without bringing me dreams Of the beautiful Annabel Lee And the stars never rise but I feel the bright eyes of the beautiful Annabel Lee And so all the night-tide I lie down by the side Of my darling my darling my life and my bride In her sepulchre there by the sea In her tomb by the sounding sea Annabel Lee, by Edgar Allen Poe (edited for simplicity)\"\n",
    "result, word_count = occurrence(fff)\n",
    "print(\"Total unique words:\", word_count)\n",
    "print(\"Most common word:\", result)"
   ],
   "metadata": {
    "collapsed": false,
    "ExecuteTime": {
     "end_time": "2024-04-12T14:23:43.506266Z",
     "start_time": "2024-04-12T14:23:43.490567Z"
    }
   },
   "id": "4ba0a3248636983e",
   "outputs": [
    {
     "name": "stdout",
     "output_type": "stream",
     "text": [
      "Total unique words: 45\n",
      "Most common word: ['the', 'the', 'never', 'the', 'of', 'the', 'beautiful', 'annabel', 'lee', 'and', 'the', 'i', 'the', 'of', 'my', 'darling', 'my', 'and', 'my', 'by', 'the', 'in', 'her', 'by', 'the', 'sea', 'annabel', 'by', 'for']\n"
     ]
    }
   ],
   "execution_count": 410
  }
 ],
 "metadata": {
  "kernelspec": {
   "display_name": "Python 3",
   "language": "python",
   "name": "python3"
  },
  "language_info": {
   "codemirror_mode": {
    "name": "ipython",
    "version": 2
   },
   "file_extension": ".py",
   "mimetype": "text/x-python",
   "name": "python",
   "nbconvert_exporter": "python",
   "pygments_lexer": "ipython2",
   "version": "2.7.6"
  }
 },
 "nbformat": 4,
 "nbformat_minor": 5
}
